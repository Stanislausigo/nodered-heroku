{
  "cells": [
    {
      "cell_type": "markdown",
      "metadata": {
        "id": "dSDPkG1d3tdx"
      },
      "source": [
        "<p><img alt=\"Colaboratory logo\" height=\"45px\" src=\"/img/colab_favicon.ico\" align=\"left\" hspace=\"10px\" vspace=\"0px\"></p>\n",
        "\n",
        "<h1>Lembar Kerja MK DAA Kelas A, Filkom UB</h1>\n",
        "\n",
        "**************************************\n",
        "Dosen Pengampu: Imam Cholissodin, S.Si., M.Kom. | imamcs@ub.ac.id | Fakultas Ilmu Komputer (Filkom), Universitas Brawijaya (UB) | Semester Genap 2021/2022 | Dibuat pada 1 Feb. 2020 | 22 Agustus 2021 | 8 Feb. 2022\n",
        "\n",
        "Semoga Bermanfaat. Aamiin :D\n",
        "**************************************\n",
        "\n",
        "Kelompok Kelas (Min. 3 - Maks 5 Org) : .., Anggota (Nama dan NIM) :\n",
        "1. Renata Ariana Handoko , NIM = 205150300111020\n",
        "2. Muhammad Ari Nugroho , NIM = 205150300111027\n",
        "3. Dani Mahardika Suroso , NIM = 205150301111012\n",
        "4. Stanislaus Glorius Vigo Angeswara , NIM = 205150307111018\n",
        "5. Faiz Ibrahim Gammanuha, NIM = 215150309111005"
      ]
    },
    {
      "cell_type": "markdown",
      "metadata": {
        "id": "976HpFEb6MkX"
      },
      "source": [
        "Melanjutkan dari file laporan UTS *.docx dengan menambahkan pada judul diakhir kata pada judul ubah menjadi “serta pembuatan prototype SmartFarming-IoT dan Robotics App”. Serta pada bab 2, tambahkan sub bab 2.[..] yang membahas tentang \"2.7 Simulator IoT dan Robotika\". Di mana masing-masing kelompok ditugaskan untuk menjalankan 1 case terkait \"github js 3d robotics simulator/ github js 3d quadcopter simulator/ github nodejs humanoid robot simulator/ dll\" => kata 3d bisa diubah menjadi 2d, sesuai pembagian berikut:\n",
        "\n",
        "*   Case 1, link: https://github.com/ErikVeland/toy-robot-simulator-js.git / lainnya => Kel. 1\n",
        "*   Case 2, link: https://github.com/csanz/node-drone-simulator.git / https://github.com/JdeRobot/WebSim2D.git / lainnya => Kel. 2\n",
        "*   Case 3, link: https://github.com/glurp/quadwebgl.git / lainnya => Kel. 3\n",
        "*   Case 4, link: https://github.com/mohini-gupta/drone-graphics-webgl.git / lainnya => Kel. 4\n",
        "*   Case 5, link: https://github.com/hbd730/quadcopter-simulation.git / lainnya => Kel. 5\n",
        "*   Case 6, link: https://github.com/mithi/hexapod-robot-simulator.git / lainnya => Kel. 6\n",
        "*   Case 7, link: https://github.com/ut-amrl/robo-js / lainnya => Kel. 7\n",
        "\n",
        "Dari koding pada case yang telah dibagi, tiap kelompok membuat koding tambahan untuk dimasukkan pada prototipe Simulator Robotika tersebut pada file Google Colab (*.ipynb) ini dengan Lib. Atau tanpa Lib. dengan C/C++ / Java / Python untuk menghasilkan array yg telah tersorting dan hasil prediksi jika nilai abs(max-min) < 10 di mana nilai yang diproses dari nilai array alat sensor electronic device temperature (pengukur suhu) pada Min. 15 data sesuai dengan interval waktunya, maka sistem print(“Sistem Listrik Aman”) dan sebaliknya (abs(max-min) ≥ 10) maka sistem print(“Sistem Listrik Tidak Aman untuk Petani”) yang diasumsikan alat sersor tersebut telah dipasangkan pada Robot (misal ada yg berupa robot beroda, drone quadcopter atau lainnya telah ada pada sistem SmartFarming tersebut). Petunjuk: gunakan impelementasi algoritma sorting terlebih dahulu sesuai dengan yang telah dibagi pada soal UTS no.1, lalu ambil nilai min dan max untuk hitung hasil prediksi.\n",
        "\n",
        "\n",
        "File yang dikumpulkan: *.ipynb, *.docx, dan file video record *.mp4 dgn BG presentasi pada Folder Pert. Ke-1 dgn resolusi min. 720p, \n",
        "waktu pengerjaan 14 hari, pengumpulan maks 26 April 2022 pukul 23.59, upload pada link https://bit.ly/3KDTIkQ\n"
      ]
    },
    {
      "cell_type": "markdown",
      "metadata": {
        "id": "S6GYv3e93td9"
      },
      "source": [
        "###  Run koding berikut sesuai dengan pembagian case utk tiap kelompok (1 kelompok cukup menjalankan 1 case)"
      ]
    },
    {
      "cell_type": "code",
      "execution_count": null,
      "metadata": {
        "colab": {
          "base_uri": "https://localhost:8080/"
        },
        "outputId": "cf8df561-9674-4589-a389-90cf4eb8f5cc",
        "id": "nst-X8GwZv2g"
      },
      "outputs": [
        {
          "output_type": "stream",
          "name": "stdout",
          "text": [
            "Mounted at /content/drive\n"
          ]
        }
      ],
      "source": [
        "from google.colab import drive\n",
        "drive.mount('/content/drive')"
      ]
    },
    {
      "cell_type": "code",
      "execution_count": null,
      "metadata": {
        "id": "lKuIpXm7Zv2m"
      },
      "outputs": [],
      "source": [
        "import os\n",
        "from google.colab import output\n",
        "os.chdir(\"/content/drive/My Drive\")\n",
        "path = \"#Pengajaran Genap 2021-2022/DAA For Me/SmartRobotic\"\n",
        "if not os.path.exists(path):\n",
        "    os.makedirs(path)\n",
        "    os.chdir(\"/content/drive/My Drive/\"+path)\n",
        "    \n",
        "os.chdir(\"/content/drive/My Drive/\"+path)\n",
        "\n",
        "!pwd\n",
        "!ls -l -a --block-size=K\n",
        "\n",
        "output.clear()"
      ]
    },
    {
      "cell_type": "markdown",
      "metadata": {
        "id": "S2CvUfHqZv2n"
      },
      "source": [
        "# Simulator SmartRobotic"
      ]
    },
    {
      "cell_type": "markdown",
      "metadata": {
        "id": "0G6E79nNZv2n"
      },
      "source": [
        "### Case 2"
      ]
    },
    {
      "cell_type": "code",
      "execution_count": null,
      "metadata": {
        "id": "lpI2atGiZv2n"
      },
      "outputs": [],
      "source": [
        "# Case Study ke-2: Robo-2-App \n",
        "#\n",
        "# Ref: \n",
        "# [1] https://github.com/JdeRobot/WebSim2D.git\n",
        "# \n",
        "os.chdir(\"/content/drive/My Drive/\"+path)\n",
        "if not os.path.exists('WebSim2D'):\n",
        "  !git clone https://elements.heroku.com/buttons/sevenmojoe/nodered-heroku \n",
        "  # lalu rename folder\n",
        "  !mv WebSim2D/ robot-2/\n",
        "else:\n",
        "  print('Case sudah di setup sebelumnya')\n",
        "\n",
        "output.clear()\n",
        "\n",
        "# !ls ./WebSim2D -l -a --block-size=K"
      ]
    },
    {
      "cell_type": "markdown",
      "metadata": {
        "id": "qgH6HV4RZv2n"
      },
      "source": [
        "![]( https://docs.google.com/uc?export=download&id=1i_MpapB5rPdhS_Ca-L0w4DcIFIfw0D41)\n",
        "\n"
      ]
    },
    {
      "cell_type": "code",
      "execution_count": null,
      "metadata": {
        "colab": {
          "base_uri": "https://localhost:8080/"
        },
        "outputId": "f7eed291-524d-4ff5-d663-a2552bd8d41e",
        "id": "C_O6arZAZv2o"
      },
      "outputs": [
        {
          "output_type": "stream",
          "name": "stdout",
          "text": [
            "Overwriting .env\n"
          ]
        }
      ],
      "source": [
        "# Gunakan token yg sudah ada atau jika blm punya, buatlah token dengan Sign-Up atau register ke htpps://dashboard.ngrok.com/auth\n",
        "# get token dari keduanya, lalu masukkan pada kode di bawah ini, aktifkan kodenya lalu jalankan, lalu hide kembali token anda\n",
        "\n",
        "%%file .env\n",
        "NGROK_AUTH_TOKEN = '2870HxsrSrYGoIzuAKGBR4tsS2f_3CEp68Qj8Mkqiqri5TFYm'"
      ]
    },
    {
      "cell_type": "code",
      "execution_count": null,
      "metadata": {
        "id": "fXG_n1pmZv2o"
      },
      "outputs": [],
      "source": [
        "os.chdir(\"/content/drive/My Drive/\"+path)"
      ]
    },
    {
      "cell_type": "code",
      "execution_count": null,
      "metadata": {
        "colab": {
          "base_uri": "https://localhost:8080/"
        },
        "outputId": "a5d1104c-69a9-491f-c548-19d83ee07e98",
        "id": "Ndn-HlliZv2o"
      },
      "outputs": [
        {
          "output_type": "stream",
          "name": "stdout",
          "text": [
            "Overwriting ./WebSim2D/package.json\n"
          ]
        }
      ],
      "source": [
        "%%file ./WebSim2D/package.json\n",
        "{\n",
        "  \"name\": \"WebSim2D\",\n",
        "  \"version\": \"2.0.0\",\n",
        "  \"main\": \"server.js\",\n",
        "  \"license\": \"ISC\"\n",
        "}"
      ]
    },
    {
      "cell_type": "code",
      "execution_count": null,
      "metadata": {
        "colab": {
          "base_uri": "https://localhost:8080/"
        },
        "outputId": "2f57a478-1b47-4706-ba2d-487c8683191d",
        "id": "0SNM9SeVZv2p"
      },
      "outputs": [
        {
          "output_type": "stream",
          "name": "stdout",
          "text": [
            "\u001b[?25l[\u001b[90m..................\u001b[0m] | generateActionsToTake: \u001b[34;40mverb\u001b[0m \u001b[35mnpm-session\u001b[0m 6f1fee6c3a0632d7\u001b[0m\u001b[K\r[\u001b[7m           \u001b[27m\u001b[90m.......\u001b[0m] | diffTrees: \u001b[7msill\u001b[0m \u001b[35minstall\u001b[0m generateActionsToTake\u001b[0m\u001b[K\r[\u001b[7m           \u001b[27m\u001b[90m.......\u001b[0m] / diffTrees: \u001b[7msill\u001b[0m \u001b[35minstall\u001b[0m generateActionsToTake\u001b[0m\u001b[K\r\r\u001b[K\u001b[?25h\u001b[37;40mnpm\u001b[0m \u001b[0m\u001b[30;43mWARN\u001b[0m\u001b[35m\u001b[0m WebSim2D@2.0.0 No repository field.\n",
            "\u001b[0m\n",
            "\u001b[K\u001b[?25hup to date in 0.263s\n",
            "found \u001b[92m0\u001b[0m vulnerabilities\n",
            "\n",
            "\u001b[K\u001b[?25h\u001b[37;40mnpm\u001b[0m \u001b[0m\u001b[30;43mWARN\u001b[0m\u001b[35m\u001b[0m WebSim2D@2.0.0 No repository field.\n",
            "\u001b[0m\n",
            "up to date in 0.066s\n",
            "fixed 0 of 0 vulnerabilities in 0 scanned packages\n",
            "\u001b[37;40mnpm\u001b[0m \u001b[0m\u001b[30;43mWARN\u001b[0m \u001b[0m\u001b[35musing --force\u001b[0m I sure hope you know what you are doing.\n",
            "\u001b[K\u001b[?25h\u001b[37;40mnpm\u001b[0m \u001b[0m\u001b[30;43mWARN\u001b[0m\u001b[35m\u001b[0m WebSim2D@2.0.0 No repository field.\n",
            "\u001b[0m\n",
            "up to date in 0.057s\n",
            "fixed 0 of 0 vulnerabilities in 0 scanned packages\n",
            "\u001b[K\u001b[?25h\u001b[37;40mnpm\u001b[0m \u001b[0m\u001b[30;43mWARN\u001b[0m\u001b[35m\u001b[0m WebSim2D@2.0.0 No repository field.\n",
            "\u001b[0m\n",
            "\u001b[K\u001b[?25hup to date in 0.305s\n",
            "found \u001b[92m0\u001b[0m vulnerabilities\n",
            "\n"
          ]
        }
      ],
      "source": [
        "# os.chdir(\"/content/drive/My Drive/\"+path+\"/WebSim2D\")\n",
        "# !npm cache clean\n",
        "\n",
        "os.chdir(\"/content/drive/My Drive/\"+path+\"/WebSim2D\")\n",
        "!npm i --package-lock-only\n",
        "!npm audit fix\n",
        "!npm audit fix --force\n",
        "!npm install"
      ]
    },
    {
      "cell_type": "code",
      "execution_count": null,
      "metadata": {
        "colab": {
          "base_uri": "https://localhost:8080/"
        },
        "outputId": "9f69a440-19d3-4ec1-84f5-7f5e1c75ec9e",
        "id": "NmA6SlLvZv2p"
      },
      "outputs": [
        {
          "output_type": "stream",
          "name": "stdout",
          "text": [
            "2870HxsrSrYGoIzuAKGBR4tsS2f_3CEp68Qj8Mkqiqri5TFYm\n"
          ]
        }
      ],
      "source": [
        "!apt-get update &\n",
        "!apt-get install nodejs &\n",
        "!apt-get install npm\n",
        "\n",
        "!pip install python-decouple\n",
        "!pip install pyngrok --quiet\n",
        "!pip install freeport\n",
        "output.clear()\n",
        "\n",
        "# get token yang dihiden dalam file *.env \n",
        "from decouple import config\n",
        "\n",
        "NGROK_AUTH_TOKEN = config('NGROK_AUTH_TOKEN',default='')\n",
        "print(NGROK_AUTH_TOKEN)"
      ]
    },
    {
      "cell_type": "code",
      "execution_count": null,
      "metadata": {
        "id": "fStNulTSZv2p"
      },
      "outputs": [],
      "source": [
        "# cara run Simulator Robotika\n",
        "!echo yes | freeport 8000\n",
        "output.clear()\n",
        "\n",
        "# os.chdir(\"/content/drive/My Drive/\"+path)\n",
        "os.chdir(\"/content/drive/My Drive/\"+path+\"/WebSim2D\")\n",
        "\n",
        "# jika tidak jalan, coba ganti port-nya\n",
        "get_ipython().system_raw('nodejs server.js --ip=0.0.0.0 --port=8000 &')\n",
        "# get_ipython().system_raw('nodejs ./WebSim2D/server.js --ip=0.0.0.0 --port=8000 &')"
      ]
    },
    {
      "cell_type": "code",
      "execution_count": null,
      "metadata": {
        "colab": {
          "base_uri": "https://localhost:8080/"
        },
        "outputId": "581d15d8-5548-44fe-98bd-5bc77be618f8",
        "id": "nmtjpR7tZv2p"
      },
      "outputs": [
        {
          "output_type": "execute_result",
          "data": {
            "text/plain": [
              "<NgrokTunnel: \"http://10d0-34-136-96-214.ngrok.io\" -> \"http://localhost:8000\">"
            ]
          },
          "metadata": {},
          "execution_count": 20
        }
      ],
      "source": [
        "from pyngrok import ngrok\n",
        "\n",
        "#terminate open tunnels if exist\n",
        "ngrok.kill()\n",
        "\n",
        "#Setting the authtoken (optional)\n",
        "#Get your authtoken from htpps://dashboard.ngrok.com/auth\n",
        "NGROK_AUTH_TOKEN = \"2870HxsrSrYGoIzuAKGBR4tsS2f_3CEp68Qj8Mkqiqri5TFYm\"\n",
        "ngrok.set_auth_token(NGROK_AUTH_TOKEN)\n",
        "ngrok.connect(8000)"
      ]
    },
    {
      "cell_type": "code",
      "execution_count": null,
      "metadata": {
        "id": "d25Y5YY3zdkZ"
      },
      "outputs": [],
      "source": [
        "# Kode pada editor:\n",
        "      \n",
        "# var ir = myRobot.getInfrared()\n",
        "# var ray = myRobot.getRayCast();\n",
        "# let raycastArr = []\n",
        "# var w = myRobot.getW()\n",
        "# var v = myRobot.getV()\n",
        "# function updateArray () {\n",
        "#     raycastArr.length = 0\n",
        "#     let tempArr =  ray.slice(0, 5)\n",
        "#     for (let i = 0; i < tempArr.length; i++) {\n",
        "#         raycastArr.push(tempArr[i].range)\n",
        "#     }\n",
        "# }\n",
        "# updateArray()\n",
        "# console.log(raycastArr)\n",
        "# await myRobot.turnUpTo(-90);\n",
        "# await myRobot.sleepTo(2);\n",
        "# await myRobot.advanceTo(32);\n",
        "# await myRobot.sleepTo(2);\n",
        "# await myRobot.turnUpTo(90);\n",
        "# await myRobot.sleepTo(2);\n",
        "# await myRobot.advanceTo(50);\n",
        "# await myRobot.sleepTo(2);\n",
        "# w = myRobot.getW()"
      ]
    },
    {
      "cell_type": "markdown",
      "metadata": {
        "id": "RO8RQeyUgOgb"
      },
      "source": [
        "### .----------------"
      ]
    },
    {
      "cell_type": "markdown",
      "metadata": {
        "id": "WaijdO1UlQ2L"
      },
      "source": [
        "## Contoh dgn C/C++"
      ]
    },
    {
      "cell_type": "code",
      "execution_count": null,
      "metadata": {
        "id": "pCbuOc3IvPT_"
      },
      "outputs": [],
      "source": [
        "import os\n",
        "os.chdir(\"/content/drive/My Drive\")\n",
        "path = \"#Pengajaran Genap 2021-2022/DAA To My Students/Project Ke-1\"\n",
        "if not os.path.exists(path):\n",
        "    os.makedirs(path)\n",
        "    os.chdir(\"/content/drive/My Drive/#Pengajaran Genap 2021-2022/DAA To My Students/Project Ke-1\")\n",
        "os.chdir(\"/content/drive/My Drive/#Pengajaran Genap 2021-2022/DAA To My Students/Project Ke-1\")\n",
        "\n",
        "!pwd\n",
        "!ls -l -a --block-size=K"
      ]
    },
    {
      "cell_type": "code",
      "execution_count": null,
      "metadata": {
        "id": "YjctWOYP-odO"
      },
      "outputs": [],
      "source": [
        "%%file uniqueElement.h\n",
        "bool uniqueElement(int *arr,int n) {\n",
        "        for (int i = 0; i <= n - 2; i++) {\n",
        "            for (int j = i + 1; j <= n - 1; j++) {\n",
        "                if (arr[i] == arr[j]) {\n",
        "                    return false;\n",
        "                }\n",
        "            }\n",
        "        }\n",
        "        return true;\n",
        "    }"
      ]
    },
    {
      "cell_type": "code",
      "execution_count": null,
      "metadata": {
        "id": "cAWX7OeVlBOo"
      },
      "outputs": [],
      "source": [
        "%%file uniqueElement.cpp\n",
        "#include <iostream>\n",
        "#define N 9\n",
        "#include \"uniqueElement.h\"\n",
        "\n",
        "int main(){\n",
        "    //jika N-nya besar, boleh isi array-nya dibuat random\n",
        "    int arr[N] = {6,9,12,58,39,90,53,82,100};\n",
        "\n",
        "    std::cout<<\"n = \"<<N<<\"\\n\";\n",
        "    //start_time\n",
        "    std::cout<<\"Apakah semua elemennya unik? \" << (uniqueElement(arr,N) ? \"true\" : \"false\") << \", :D\";\n",
        "    //end_time, lalu hitung selisih waktunya abs(end_time-start_time)\n",
        "    return 0; // pada main, bermakna exit\n",
        "}"
      ]
    },
    {
      "cell_type": "code",
      "execution_count": null,
      "metadata": {
        "id": "9K19jek8lBKQ"
      },
      "outputs": [],
      "source": [
        "%%script bash\n",
        "g++ uniqueElement.cpp uniqueElement.h -std=c++11 -o uniqueElement\n",
        "./uniqueElement"
      ]
    },
    {
      "cell_type": "markdown",
      "metadata": {
        "id": "TNBMTowNlVnp"
      },
      "source": [
        "## Contoh dgn Java"
      ]
    },
    {
      "cell_type": "code",
      "execution_count": null,
      "metadata": {
        "id": "GXFku5RV3teA"
      },
      "outputs": [],
      "source": [
        "%%file DAA2021.java\n",
        "import java.util.Random;\n",
        "\n",
        "/**\n",
        " *\n",
        " * @author Imam Cholissodin\n",
        " *\n",
        " * Contoh Membuat Koding Algoritma uniqueElement \n",
        " */\n",
        "public class DAA2021 {\n",
        "\n",
        "    public static boolean uniqueElement(int A[]) {\n",
        "        int n = A.length;\n",
        "        for (int i = 0; i <= n - 2; i++) {\n",
        "            for (int j = i + 1; j <= n - 1; j++) {\n",
        "                if (A[i] == A[j]) {\n",
        "                    return false;\n",
        "                }\n",
        "            }\n",
        "        }\n",
        "        return true;\n",
        "    }\n",
        "\n",
        "    /**\n",
        "     * @param args the command line arguments\n",
        "     */\n",
        "    public static void main(String[] args) {        \n",
        "        //int A[]  = {9,87,52,3,33,58,74,57,89,57,48,61,33,83,28};\n",
        "        int A[]  = {6,9,12,58,39,10,53,82,90};\n",
        "        \n",
        "        System.out.println(\"Cek keunikan = \"+uniqueElement(A));\n",
        "    }\n",
        "}"
      ]
    },
    {
      "cell_type": "code",
      "execution_count": null,
      "metadata": {
        "id": "-5rujtNU3teE"
      },
      "outputs": [],
      "source": [
        "# cek isi direktori\n",
        "!ls -l -a --block-size=K"
      ]
    },
    {
      "cell_type": "code",
      "execution_count": null,
      "metadata": {
        "id": "beLCGzYq3teH"
      },
      "outputs": [],
      "source": [
        "# aktifkan jika utk debugging\n",
        "# !javac -cp lib.jar DAA2021.java"
      ]
    },
    {
      "cell_type": "code",
      "execution_count": null,
      "metadata": {
        "id": "h531RGCD3teN"
      },
      "outputs": [],
      "source": [
        "from google.colab import output\n",
        "#compile file *.java menjadi *.class\n",
        "!javac -cp lib.jar DAA2021.java\n",
        "!jar cvf uniqueElement.jar *.class\n",
        "\n",
        "output.clear()\n",
        "\n",
        "# cara running \n",
        "!java -cp uniqueElement.jar DAA2021"
      ]
    },
    {
      "cell_type": "markdown",
      "metadata": {
        "id": "lJsEJg7Flwbv"
      },
      "source": [
        "## Contoh dgn Python"
      ]
    },
    {
      "cell_type": "code",
      "execution_count": null,
      "metadata": {
        "id": "1UUDisgulzAw"
      },
      "outputs": [],
      "source": [
        "# /**\n",
        "#  *\n",
        "#  * @author Imam Cholissodin\n",
        "#  *\n",
        "#  * Contoh Membuat Koding Algoritma uniqueElement \n",
        "#  */\n",
        "\n",
        "def uniqueElement(A):\n",
        "  n = len(A)\n",
        "  for i in range(0,n-1,1):\n",
        "    for j in range(i+1,n,1):\n",
        "      if(A[i]==A[j]):\n",
        "        return False\n",
        "  return True\n",
        "\n",
        "if __name__ == '__main__':\n",
        "  # A = [9,87,52,3,33,58,74,57,89,57,48,61,33,83,28]\n",
        "  A = [6,9,12,58,39,10,53,82,90]\n",
        "    \n",
        "  print(\"Cek keunikan = \", uniqueElement(A))"
      ]
    },
    {
      "cell_type": "markdown",
      "metadata": {
        "id": "wiTGvk34l3Ha"
      },
      "source": [
        "## Start Tugas Project ke-2: Buat Koding (Dgn C/C++ || Java || Python)"
      ]
    },
    {
      "cell_type": "code",
      "execution_count": null,
      "metadata": {
        "id": "wKs4VfxzLt6L"
      },
      "outputs": [],
      "source": [
        "# koding get data suhu, misal diambilkan dari kota yg disediakan, dengan interval waktu pengambilan t_inv = 3 detik\n",
        "# yang diasumsikan sebagai hasil alat sensor suhu yg telah dipasang pada Robot \n",
        "# dan lingkungannya diasumsikan pada area pertanian\n",
        "\n",
        "# %%file get_suhu.py\n",
        "import requests\n",
        "from bs4 import BeautifulSoup\n",
        "# import sqlite3\n",
        "import time\n",
        "from datetime import datetime\n",
        "import random\n",
        "import pytz\n",
        "Date = str(datetime.today().astimezone(pytz.timezone('Asia/Jakarta')).strftime('%d-%m-%Y %H:%M:%S'))\n",
        "\n",
        "def F2C(f_in):\n",
        "    return (f_in - 32)* 5/9\n",
        "\n",
        "list_kota = ['Bogor']\n",
        "list_link_kota = ['https://weather.com/weather/today/l/1673678103f5ee4a01282fc6dc796d2d1502778e0383ced20aca25e9f51f651f']\n",
        "\n",
        "byk_data = 15\n",
        "t_inv = 3 # jika datanya sama, naikkan sampai ke menit\n",
        "data_suhu =[]\n",
        "for in_time in range(byk_data):\n",
        "  for each_list_link in list_link_kota:\n",
        "    #open with GET method\n",
        "    resp=requests.get(each_list_link)\n",
        "\n",
        "    nama_kota = list_kota[list_link_kota.index(each_list_link)]\n",
        "    #http_respone 200 means OK status\n",
        "    if resp.status_code==200:\n",
        "        soup=BeautifulSoup(resp.text,'html.parser')\n",
        "        divs = soup.find(\"span\", {\"class\": \"CurrentConditions--tempValue--3a50n\",\"data-testid\":\"TemperatureValue\"}, partial=False)\n",
        "        int_hasil = int(''.join([n for n in divs.text if n.isdigit()]))\n",
        "        suhu = str(F2C(int_hasil))\n",
        "        suhu = float(suhu)*random.uniform(0.75, 1) # untuk simulasi nilai yg variatif dgn menambahkan nilai random\n",
        "        curah_hujan = '-'\n",
        "        lembab = '-'\n",
        "        angin = '-'\n",
        "        # print(F2C(int_hasil))\n",
        "        data_suhu.append(suhu)\n",
        "    else:\n",
        "        # print(\"Error\")\n",
        "        suhu = '-'\n",
        "        curah_hujan = '-'\n",
        "        lembab = '-'\n",
        "        angin = '-'\n",
        "        data_suhu.append('-')\n",
        "\n",
        "  time.sleep(t_inv) #dlm satuan detik\n",
        "\n",
        "data_suhu = [round(float(suhu),2) for suhu in data_suhu]\n",
        "counter = 0\n",
        "print(data_suhu)\n",
        "fh = open('data_suhu.txt','w')\n",
        "for i in data_suhu:\n",
        "  if counter < byk_data-1:\n",
        "    counter = counter+1\n",
        "    fh.write(str(i)+','+' ')\n",
        "  else:\n",
        "    fh.write(str(i)+' ')\n",
        "\n",
        "fh.close()"
      ]
    },
    {
      "cell_type": "markdown",
      "metadata": {
        "id": "mwJElICAzKCE"
      },
      "source": [
        "#Case 2 - Sorting suhu kota Bogor"
      ]
    },
    {
      "cell_type": "markdown",
      "metadata": {
        "id": "QHvM1sR2zSq8"
      },
      "source": [
        "#Sorting MergeSort"
      ]
    },
    {
      "cell_type": "code",
      "execution_count": null,
      "metadata": {
        "id": "acMLjoK0qLIT"
      },
      "outputs": [],
      "source": [
        "# Case 1/2/../7: Tentang .. (Sesuai dgn yg telah dibagi pada penjelasan di atas)\n",
        "# --------------------------------------------------------\n",
        "# \n",
        "# Koding disini utk sorting data_suhu dgn alg. yg telah dibagi pada UTS no.1, get min dan max, dan lainnya\n",
        "# sesuai petunjuk pada deskripsi di atas.\n",
        "# Merge Sort Suhu\n",
        "filename = \"data_suhu.txt\"\n",
        "\n",
        "def listToString(a):\n",
        "  string1 = \" \"\n",
        "  return (string1.join(a))\n",
        "\n",
        "stringTemp= []\n",
        "with open(filename) as f_obj:\n",
        "    contents = f_obj.read()\n",
        "    stringTemp.append(contents)\n",
        "stringFinal = listToString(stringTemp)\n",
        "stringToFloat = [float(value) for value in stringFinal.split(', ')]\n",
        "# print (stringToFloat)\n",
        "ar_main = stringToFloat\n",
        "\n",
        "def mergeSort(arr):\n",
        "\tif len(arr) > 1:\n",
        "\n",
        "\t\t# Mencari nilai tengah pada array\n",
        "\t\tmid = len(arr)//2\n",
        "\t\t# Memisah array element dan beri penanda sisi kiri\n",
        "\t\tL = arr[:mid]\n",
        "\t\t# Memisah array element dan beri penanda sisi kanan\n",
        "\t\tR = arr[mid:]\n",
        "\t\t# Melakukan sorting di sisi kiri\n",
        "\t\tmergeSort(L)\n",
        "\t\t# Melakukan sorting di sisi kanan\n",
        "\t\tmergeSort(R)\n",
        "\t\ti = j = k = 0\n",
        "\t\t# Lakukan komparasi dari kedua sisi array\n",
        "\t\twhile i < len(L) and j < len(R):\n",
        "\t\t\tif L[i] < R[j]:\n",
        "\t\t\t\tarr[k] = L[i]\n",
        "\t\t\t\ti += 1\n",
        "\t\t\telse:\n",
        "\t\t\t\tarr[k] = R[j]\n",
        "\t\t\t\tj += 1\n",
        "\t\t\tk += 1\n",
        "\t\t# Check apakah masih ada element array yang tersisa\n",
        "\t\twhile i < len(L):\n",
        "\t\t\tarr[k] = L[i]\n",
        "\t\t\ti += 1\n",
        "\t\t\tk += 1\n",
        "\n",
        "\t\twhile j < len(R):\n",
        "\t\t\tarr[k] = R[j]\n",
        "\t\t\tj += 1\n",
        "\t\t\tk += 1\n",
        "\n",
        "def printList(arr):\n",
        "\tfor i in range(len(arr)):\n",
        "\t\tprint(arr[i], end=\" \")\n",
        "\tprint()\n",
        " \n",
        "def main():\n",
        "  n = len(ar_main)\n",
        "  arr = [None] * (n)\n",
        "  i = 0\n",
        "  while (i < n) :\n",
        "    arr[i] = ar_main[i]\n",
        "    i += 1\n",
        "  print(\"Nilai Array awal: \", end=\"\\n\")\n",
        "  printList(arr)\n",
        "  mergeSort(arr)\n",
        "  print(\"Nilai Array setelah disorting: \", end=\"\\n\")\n",
        "  printList(arr)\n",
        "  maks = int(arr[n-1])\n",
        "  min = int(arr[0])\n",
        "  if(abs(maks-min)<10):\n",
        "   print(\"Sistem listrik Aman\")\n",
        "  else:\n",
        "   print(\"Sistem listrik Tidak Aman untuk Petani\")\n",
        "\n",
        "if __name__ == '__main__':\n",
        "\tmain()"
      ]
    },
    {
      "cell_type": "markdown",
      "metadata": {
        "id": "pmzy4FS-zdWU"
      },
      "source": [
        "#Sorting CubeSort"
      ]
    },
    {
      "cell_type": "code",
      "execution_count": null,
      "metadata": {
        "id": "QDFpv20UeDuH"
      },
      "outputs": [],
      "source": [
        "# --------------------------------------------------------\n",
        "#cubesort\n",
        "import functools\n",
        "import math\n",
        "from multiprocessing.dummy import Array\n",
        "import numpy\n",
        "\n",
        "filename = \"data_suhu.txt\"\n",
        "\n",
        "def listToString(a):\n",
        "  string1 = \" \"\n",
        "  return (string1.join(a))\n",
        "\n",
        "stringTemp= []\n",
        "with open(filename) as f_obj:\n",
        "    contents = f_obj.read()\n",
        "    stringTemp.append(contents)\n",
        "stringFinal = listToString(stringTemp)\n",
        "stringToFloat = [float(value) for value in stringFinal.split(', ')]\n",
        "# print (stringToFloat)\n",
        "ar_main = stringToFloat\n",
        "\n",
        "class cubeSort :\n",
        "    def sortArray( arr,  n) :\n",
        "        ar = [None] * (n)\n",
        "        i = 0\n",
        "        while (i < n) :\n",
        "            ar[i] = arr[i]\n",
        "            i += 1\n",
        "        def compare(a,  b) :\n",
        "            x = int(math.pow(a,3))\n",
        "            y = int(math.pow(b,3))\n",
        "            return -1 if (x < y) else 1\n",
        "        sorted_ar = sorted(ar, key=functools.cmp_to_key(compare))\n",
        "        print(\"Nilai Array awal: \", end=\"\\n\")\n",
        "        printList(ar)\n",
        "        print(\"Nilai Array setelah disorting: \", end=\"\\n\")\n",
        "        printList(sorted_ar)\n",
        "        maks = int(sorted_ar[n-1])\n",
        "        min = int(sorted_ar[0])\n",
        "        if(abs(maks-min)<10):\n",
        "          print(\"Sistem listrik Aman\")\n",
        "        else:\n",
        "          print(\"Sistem listrik Tidak Aman untuk Petani\")\n",
        "    def main( args) :\n",
        "        n = len(ar_main)\n",
        "        cubeSort.sortArray(ar_main, n)\n",
        "if __name__==\"__main__\":\n",
        "    cubeSort.main([])"
      ]
    },
    {
      "cell_type": "markdown",
      "metadata": {
        "id": "LX4SpDgxsIX5"
      },
      "source": [
        "# Hi All Great Students"
      ]
    },
    {
      "cell_type": "markdown",
      "metadata": {
        "id": "OOr85aI5sN7P"
      },
      "source": [
        "Semoga Sukses. Aamiin. :D\n",
        "![]( https://docs.google.com/uc?export=download&id=1vJNmuncRehLc3WCZkFYCU6rRMVTy-w0k)"
      ]
    }
  ],
  "metadata": {
    "colab": {
      "collapsed_sections": [
        "TNBMTowNlVnp",
        "lJsEJg7Flwbv"
      ],
      "name": "Lembar_Kerja_MK_DAA_Kelas_A_utk_Tugas_Project_ke_2-Kelompok 2.ipynb",
      "provenance": []
    },
    "kernelspec": {
      "display_name": "Python 3",
      "language": "python",
      "name": "python3"
    },
    "language_info": {
      "codemirror_mode": {
        "name": "ipython",
        "version": 3
      },
      "file_extension": ".py",
      "mimetype": "text/x-python",
      "name": "python",
      "nbconvert_exporter": "python",
      "pygments_lexer": "ipython3",
      "version": "3.6.9"
    }
  },
  "nbformat": 4,
  "nbformat_minor": 0
}